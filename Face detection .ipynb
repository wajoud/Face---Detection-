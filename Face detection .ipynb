{
 "cells": [
  {
   "cell_type": "code",
   "execution_count": 1,
   "metadata": {},
   "outputs": [],
   "source": [
    "# Importing all the required libries \n",
    "import os \n",
    "import cv2\n",
    "import face_recognition"
   ]
  },
  {
   "cell_type": "code",
   "execution_count": 2,
   "metadata": {},
   "outputs": [],
   "source": [
    "# defining the parameters \n",
    "wajoud_face_dir = \"known_faces\"\n",
    "test_face_dir =\"test\"\n",
    "tolerance = 0.5\n",
    "frame_thickness = 5\n",
    "font_thickness = 3\n",
    "model = \"CNN\"  #hog"
   ]
  },
  {
   "cell_type": "code",
   "execution_count": 3,
   "metadata": {},
   "outputs": [
    {
     "name": "stdout",
     "output_type": "stream",
     "text": [
      "Traning data\n"
     ]
    }
   ],
   "source": [
    "#creating a empty list \n",
    "print(\"Traning data\")\n",
    "wajoud_faces =[]\n",
    "names = []"
   ]
  },
  {
   "cell_type": "code",
   "execution_count": 4,
   "metadata": {},
   "outputs": [],
   "source": [
    "# uploading and encorging the image for training the model \n",
    "for name in os.listdir(wajoud_face_dir):\n",
    "    for filename in os.listdir(f\"{wajoud_face_dir}/{name}\"):\n",
    "        image = face_recognition.load_image_file(f'{wajoud_face_dir}/{name}/{filename}')\n",
    "        encoding = face_recognition.face_encodings(image)[0]\n",
    "        wajoud_faces.append(encoding)\n",
    "        names.append(name)"
   ]
  },
  {
   "cell_type": "code",
   "execution_count": 5,
   "metadata": {},
   "outputs": [],
   "source": [
    "scale_percent = 100\n",
    "width = int(image.shape[1] * scale_percent / 100)\n",
    "height = int(image.shape[0] * scale_percent / 100)\n",
    "dsize = (width, height)"
   ]
  },
  {
   "cell_type": "code",
   "execution_count": 6,
   "metadata": {},
   "outputs": [
    {
     "name": "stdout",
     "output_type": "stream",
     "text": [
      "Filename IMG_20191116_142033.jpg, found 3 face(s)\n",
      " - wajoud from [False, True, True, False, True, True]\n",
      "Filename IMG-20210217-WA0001.jpg, found 4 face(s)\n",
      " - wajoud from [True, False, True, False, True, True]\n",
      "Filename IMG-20200802-WA0002.jpg, found 5 face(s)\n",
      " - wajoud from [True, False, True, False, True, True]\n",
      "Filename IMG_20200417_092403_160__01.jpg, found 1 face(s)\n",
      " - wajoud from [False, True, True, False, True, True]\n",
      "Filename IMG-20210217-WA0005.jpg, found 7 face(s)\n",
      " - wajoud from [True, False, True, False, True, True]\n"
     ]
    }
   ],
   "source": [
    "for filename in os.listdir(test_face_dir):\n",
    "    print(f'Filename {filename}', end='')\n",
    "    image = face_recognition.load_image_file(f'{test_face_dir}/{filename}')\n",
    "    locations = face_recognition.face_locations(image, model=model)\n",
    "    encodings = face_recognition.face_encodings(image, locations)\n",
    "    image = cv2.cvtColor(image, cv2.COLOR_RGB2BGR)\n",
    "    print(f', found {len(encodings)} face(s)')\n",
    "    for face_encoding, face_location in zip(encodings, locations):\n",
    "        results = face_recognition.compare_faces(wajoud_faces, face_encoding,tolerance)\n",
    "        match = None \n",
    "        if True in results:\n",
    "            match = names[results.index(True)]\n",
    "            print(f' - {match} from {results}')\n",
    "            top_left = (face_location[3], face_location[0])\n",
    "            bottom_right = (face_location[1], face_location[2]) \n",
    "            #color =[0,255,0]\n",
    "            color = [(ord(c.lower())-97)*8 for c in name[:3]]\n",
    "            cv2.rectangle(image, top_left, bottom_right, color, frame_thickness)\n",
    "            top_left = (face_location[3], face_location[2])\n",
    "            bottom_right = (face_location[1], face_location[2] + 30)\n",
    "            cv2.rectangle(image, top_left, bottom_right, color, cv2.FILLED)\n",
    "            cv2.putText(image, match, (face_location[3] + 10, face_location[2] + 15), cv2.FONT_HERSHEY_SIMPLEX, 0.5, (200, 200, 200), font_thickness)\n",
    "    image =cv2.resize(image,dsize)\n",
    "    cv2.imshow(filename,image)\n",
    "    cv2.waitKey(1000)        "
   ]
  },
  {
   "cell_type": "code",
   "execution_count": 7,
   "metadata": {},
   "outputs": [
    {
     "name": "stdout",
     "output_type": "stream",
     "text": [
      "[False, False, False, False, False, False]\n"
     ]
    }
   ],
   "source": [
    "print(results)"
   ]
  },
  {
   "cell_type": "code",
   "execution_count": null,
   "metadata": {},
   "outputs": [],
   "source": []
  },
  {
   "cell_type": "code",
   "execution_count": null,
   "metadata": {},
   "outputs": [],
   "source": []
  },
  {
   "cell_type": "code",
   "execution_count": null,
   "metadata": {},
   "outputs": [],
   "source": []
  },
  {
   "cell_type": "code",
   "execution_count": null,
   "metadata": {},
   "outputs": [],
   "source": []
  },
  {
   "cell_type": "code",
   "execution_count": null,
   "metadata": {},
   "outputs": [],
   "source": []
  },
  {
   "cell_type": "code",
   "execution_count": null,
   "metadata": {},
   "outputs": [],
   "source": []
  }
 ],
 "metadata": {
  "kernelspec": {
   "display_name": "Python 3",
   "language": "python",
   "name": "python3"
  },
  "language_info": {
   "codemirror_mode": {
    "name": "ipython",
    "version": 3
   },
   "file_extension": ".py",
   "mimetype": "text/x-python",
   "name": "python",
   "nbconvert_exporter": "python",
   "pygments_lexer": "ipython3",
   "version": "3.7.3"
  }
 },
 "nbformat": 4,
 "nbformat_minor": 4
}
